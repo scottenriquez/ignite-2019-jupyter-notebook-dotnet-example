{
 "cells": [
  {
   "cell_type": "code",
   "execution_count": 3,
   "metadata": {},
   "outputs": [
    {
     "name": "stdout",
     "output_type": "stream",
     "text": [
      "You can now use .NET with Jupyter Notebooks!\n"
     ]
    }
   ],
   "source": [
    "Console.WriteLine(\"You can now use .NET with Jupyter Notebooks!\");"
   ]
  },
  {
   "cell_type": "code",
   "execution_count": 4,
   "metadata": {},
   "outputs": [
    {
     "data": {
      "text/html": [
       "Installing package MathNet.Numerics, version 4.9.0.done!"
      ]
     },
     "metadata": {},
     "output_type": "display_data"
    },
    {
     "data": {
      "text/html": [
       "Successfully added reference to package MathNet.Numerics, version 4.9.0"
      ]
     },
     "metadata": {},
     "output_type": "display_data"
    }
   ],
   "source": [
    "#r \"nuget:MathNet.Numerics, 4.9.0\"\n",
    "using MathNet.Numerics.LinearAlgebra;\n",
    "using MathNet.Numerics.LinearAlgebra.Double;\n",
    "using MathNet.Numerics.LinearAlgebra.Factorization;\n",
    "int dimensions = 5;\n",
    "SparseMatrix sparseMatrix = SparseMatrix.CreateDiagonal(dimensions, dimensions, 0);"
   ]
  },
  {
   "cell_type": "code",
   "execution_count": 5,
   "metadata": {},
   "outputs": [],
   "source": [
    "public static int generateRandomInteger() \n",
    "{\n",
    "    Random random = new Random();\n",
    "    return random.Next(0, 100000);\n",
    "}"
   ]
  },
  {
   "cell_type": "code",
   "execution_count": 6,
   "metadata": {},
   "outputs": [],
   "source": [
    "for(int row = 0; row < dimensions; row++)\n",
    "{\n",
    "    for(int column = 0; column < dimensions; column++)\n",
    "    {\n",
    "        sparseMatrix.At(row, column, generateRandomInteger());\n",
    "    }\n",
    "}"
   ]
  },
  {
   "cell_type": "code",
   "execution_count": 7,
   "metadata": {},
   "outputs": [
    {
     "data": {
      "text/html": [
       "<table><thead><tr><th>NonZerosCount</th><th>Storage</th><th>ColumnCount</th><th>RowCount</th></tr></thead><tbody><tr><td>25</td><td>{ MathNet.Numerics.LinearAlgebra.Storage.SparseCompressedRowMatrixStorage&lt;System.Double&gt;: ValueCount: 25, IsDense: False, IsFullyMutable: True, RowPointers: [ 0, 5, 10, 15, 20, 25 ], ColumnIndices: [ 0, 1, 2, 3, 4, 0, 1, 2, 3, 4 ... (15 more) ], Values: [ 52513, 90130, 18326, 46901, 78462, 59018, 71171, 42855, 7175, 9934 ... (15 more) ], RowCount: 5, ColumnCount: 5 }</td><td>5</td><td>5</td></tr></tbody></table>"
      ]
     },
     "metadata": {},
     "output_type": "display_data"
    }
   ],
   "source": [
    "display(sparseMatrix);"
   ]
  },
  {
   "cell_type": "markdown",
   "metadata": {},
   "source": [
    "The <code>display()</code> function is awesome for cleanly formatting your output. Here's some additional markdown for documentation!"
   ]
  }
 ],
 "metadata": {
  "kernelspec": {
   "display_name": ".NET (C#)",
   "language": "C#",
   "name": ".net-csharp"
  },
  "language_info": {
   "file_extension": ".cs",
   "mimetype": "text/x-csharp",
   "name": "C#",
   "pygments_lexer": "csharp",
   "version": "8.0"
  }
 },
 "nbformat": 4,
 "nbformat_minor": 4
}
