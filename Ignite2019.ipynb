{
 "cells": [
  {
   "cell_type": "code",
   "execution_count": 1,
   "metadata": {},
   "outputs": [
    {
     "name": "stdout",
     "output_type": "stream",
     "text": [
      "You can now use .NET with Jupyter Notebooks!\n"
     ]
    }
   ],
   "source": [
    "Console.WriteLine(\"You can now use .NET with Jupyter Notebooks!\");"
   ]
  },
  {
   "cell_type": "code",
   "execution_count": null,
   "metadata": {},
   "outputs": [
    {
     "data": {
      "text/html": [
       "Installing package MathNet.Numerics, version 4.9.0........................................................................."
      ]
     },
     "metadata": {},
     "output_type": "display_data"
    }
   ],
   "source": [
    "#r \"nuget:MathNet.Numerics, 4.9.0\"\n",
    "using MathNet.Numerics.LinearAlgebra;\n",
    "int dimensions = 5;\n",
    "SparseMatrix sparseMatrix = SparseMatrix.CreateDiagonal(dimensions, dimensions, 0);"
   ]
  },
  {
   "cell_type": "code",
   "execution_count": null,
   "metadata": {},
   "outputs": [],
   "source": [
    "public static int generateRandomInteger() \n",
    "{\n",
    "    Random random = new Random();\n",
    "    return random.Next(0, 100000);\n",
    "}"
   ]
  },
  {
   "cell_type": "code",
   "execution_count": null,
   "metadata": {},
   "outputs": [],
   "source": [
    "for(int row = 0; row < dimensions; row++)\n",
    "{\n",
    "    for(int column = 0; column < dimensions; column++)\n",
    "    {\n",
    "        sparseMatrix.At(row, column, generateRandomInteger());\n",
    "    }\n",
    "}"
   ]
  },
  {
   "cell_type": "code",
   "execution_count": null,
   "metadata": {},
   "outputs": [],
   "source": [
    "display(sparseMatrix);"
   ]
  },
  {
   "cell_type": "markdown",
   "metadata": {},
   "source": [
    "The <code>display()</code> function is awesome for cleanly formatting your output. Here's some additional markdown for documentation!"
   ]
  },
  {
   "cell_type": "code",
   "execution_count": null,
   "metadata": {},
   "outputs": [],
   "source": []
  }
 ],
 "metadata": {
  "kernelspec": {
   "display_name": ".NET (C#)",
   "language": "C#",
   "name": ".net-csharp"
  },
  "language_info": {
   "file_extension": ".cs",
   "mimetype": "text/x-csharp",
   "name": "C#",
   "pygments_lexer": "csharp",
   "version": "8.0"
  }
 },
 "nbformat": 4,
 "nbformat_minor": 4
}
